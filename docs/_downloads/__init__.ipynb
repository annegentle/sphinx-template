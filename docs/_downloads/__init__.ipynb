{
  "metadata": {
    "kernelspec": {
      "name": "python3",
      "display_name": "Python 3",
      "language": "python"
    },
    "language_info": {
      "codemirror_mode": {
        "name": "ipython",
        "version": 3
      },
      "file_extension": ".py",
      "version": "3.5.2",
      "nbconvert_exporter": "python",
      "name": "python",
      "mimetype": "text/x-python",
      "pygments_lexer": "ipython3"
    }
  },
  "cells": [
    {
      "cell_type": "code",
      "execution_count": null,
      "outputs": [],
      "source": [
        "%matplotlib inline"
      ],
      "metadata": {
        "collapsed": false
      }
    },
    {
      "cell_type": "markdown",
      "metadata": {},
      "source": [
        "\nThis is the Example module, \n\nIt contains various function, plotting graphs and containing information useful\nto see how Sphinx, and Sphinx-Gallery behave when you deploy documentation.\n\n"
      ]
    },
    {
      "cell_type": "code",
      "execution_count": null,
      "outputs": [],
      "source": [
        "# we provide version_info as a tuple, because on Major version bump, \n# alphabetical ordering may be wrong !\n# '10.0.0' < '9.0.0'\n\nversion_info = (0, 0, 5)\n__version__ = '.'.join([str(x) for x in version_info])\n\n\n\ndef add_with_saturation_bad(a, b, c=10):\n    \"\"\"\n    add_with_saturation add with saturation\n    \"\"\"\n    return min(a+b, c)"
      ],
      "metadata": {
        "collapsed": false
      }
    }
  ],
  "nbformat_minor": 0,
  "nbformat": 4
}